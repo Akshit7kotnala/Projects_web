{
 "cells": [
  {
   "cell_type": "code",
   "execution_count": 1,
   "id": "8bf76f27-10dc-4b8d-9e24-8884de285213",
   "metadata": {},
   "outputs": [],
   "source": [
    "import pytesseract"
   ]
  },
  {
   "cell_type": "code",
   "execution_count": 2,
   "id": "e1b42653-65a3-428a-8150-ca9259d027ab",
   "metadata": {},
   "outputs": [],
   "source": [
    "from PIL import Image"
   ]
  },
  {
   "cell_type": "code",
   "execution_count": 4,
   "id": "8bfdffd6-9488-4a40-8178-274989d2277b",
   "metadata": {},
   "outputs": [],
   "source": [
    "pytesseract.pytesseract.tesseract_cmd = \"C:\\\\Program Files\\\\Tesseract-OCR\\\\tesseract\""
   ]
  },
  {
   "cell_type": "code",
   "execution_count": 7,
   "id": "863db12d-c400-40e1-a044-a72d5c4052fe",
   "metadata": {},
   "outputs": [],
   "source": [
    "def get_text(img_name):\n",
    "    image = Image.open(img_name)\n",
    "    text = pytesseract.pytesseract.image_to_string(image)\n",
    "    return text "
   ]
  },
  {
   "cell_type": "code",
   "execution_count": 8,
   "id": "7939cb7f-3581-40ee-aa70-e3e90c9d4f7d",
   "metadata": {},
   "outputs": [],
   "source": [
    "output = get_text(\"istockphoto-1390474768-612x612.jpg\")"
   ]
  },
  {
   "cell_type": "code",
   "execution_count": 9,
   "id": "d1272122-4666-462d-92cd-a3fe2ff374ec",
   "metadata": {},
   "outputs": [
    {
     "name": "stdout",
     "output_type": "stream",
     "text": [
      "STRONGER |\n",
      "\n",
      "\n"
     ]
    }
   ],
   "source": [
    "print(output)"
   ]
  },
  {
   "cell_type": "code",
   "execution_count": 17,
   "id": "49985de0-359c-4b84-8bb7-dc44acd1692c",
   "metadata": {},
   "outputs": [
    {
     "name": "stdout",
     "output_type": "stream",
     "text": [
      "1२0५७६२\n",
      "\n",
      "\n"
     ]
    }
   ],
   "source": [
    "img = Image.open('istockphoto-1390474768-612x612.jpg')\n",
    "\n",
    "# Extract text using Tesseract\n",
    "extracted_text = pytesseract.image_to_string(img, lang='mar')  # For Marathi (change 'mar' for other languages)\n",
    "print(extracted_text)"
   ]
  },
  {
   "cell_type": "code",
   "execution_count": 14,
   "id": "b4d01e46-c9a3-4112-a1cb-32244ff85cf9",
   "metadata": {},
   "outputs": [
    {
     "name": "stdout",
     "output_type": "stream",
     "text": [
      "Detected language: ne\n"
     ]
    }
   ],
   "source": [
    "from langdetect import detect\n",
    "\n",
    "# Detect the language of extracted text\n",
    "language = detect(extracted_text)\n",
    "print(f'Detected language: {language}')"
   ]
  },
  {
   "cell_type": "code",
   "execution_count": 18,
   "id": "d250a3cd-6375-4ce1-97f3-341af1a989c1",
   "metadata": {},
   "outputs": [],
   "source": [
    "from googletrans import Translator"
   ]
  },
  {
   "cell_type": "code",
   "execution_count": null,
   "id": "93d4ba8f-1298-4b26-b534-8b10375b708b",
   "metadata": {},
   "outputs": [],
   "source": []
  }
 ],
 "metadata": {
  "kernelspec": {
   "display_name": "Python 3 (ipykernel)",
   "language": "python",
   "name": "python3"
  },
  "language_info": {
   "codemirror_mode": {
    "name": "ipython",
    "version": 3
   },
   "file_extension": ".py",
   "mimetype": "text/x-python",
   "name": "python",
   "nbconvert_exporter": "python",
   "pygments_lexer": "ipython3",
   "version": "3.12.1"
  }
 },
 "nbformat": 4,
 "nbformat_minor": 5
}
