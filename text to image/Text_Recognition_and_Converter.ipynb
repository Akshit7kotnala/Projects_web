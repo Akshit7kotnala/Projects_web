{
 "cells": [
  {
   "cell_type": "code",
   "execution_count": 2,
   "id": "db5b7021-a567-42c4-bce3-b9e0561dd811",
   "metadata": {},
   "outputs": [],
   "source": [
    "lang={\"Bulgarian\":\"bg\",\n",
    "\"Bengali\":\"bn\",\n",
    "\"Catalan\":\"ca\",\n",
    "\"Chinese Simplified\":\"zh-CN\",\n",
    "\"Chinese Traditional\":\"zh-TW\",\n",
    "\"Croatian\":\"hr\",\n",
    "\"Czech\":\"cs\",\n",
    "\"Danish\":\"da\",\n",
    "\"Dutch\":\"nl\",\n",
    "\"English\":\"en\",\n",
    "\"Estonian\":\"et\",\n",
    "\"Filipino\":\"tl\",\n",
    "\"Finnish\":\"fi\",\n",
    "\"French\":\"fr\",\n",
    "\"Galician\":\"gl\",\n",
    "\"German\":\"de\",\n",
    "\"Gujarati\":\"gu\",\n",
    "\"Greek\":\"el\",\n",
    "\"Hebrew\":\"iw\",\n",
    "\"Hindi\":\"hi\",\n",
    "\"Hungarian\":\"hu\",\n",
    "\"Icelandic\":\"is\",\n",
    "\"Indonesian\":\"id\",\n",
    "\"Irish\":\"ga\",\n",
    "\"Italian\":\"it\",\n",
    "\"Japanese\":\"ja\",\n",
    "\"Korean\":\"ko\",\n",
    "\"Kannada\":\"kn\",\n",
    "\"Latvian\":\"lv\",\n",
    "\"Lithuanian\":\"lt\",\n",
    "\"Macedonian\":\"mk\",\n",
    "\"Malay\":\"ms\",\n",
    "\"Maltese\":\"mt\",\n",
    "\"Marathi\":\"mr\",\n",
    "\"Norwegian\":\"no\",\n",
    "\"Persian\":\"fa\",\n",
    "\"Polish\":\"pl\",\n",
    "\"Portuguese\":\"pt\",\n",
    "\"Romanian\":\"ro\",\n",
    "\"Russian\":\"ru\",\n",
    "\"Serbian\":\"sr\",\n",
    "\"Slovak\":\"sk\",\n",
    "\"Slovenian\":\"sl\",\n",
    "\"Spanish\":\"es\",\n",
    "\"Swahili\":\"sw\",\n",
    "\"Swedish\":\"sv\",\n",
    "\"Tamil\":\"ta\",\n",
    "\"Telugu\":\"te\",\n",
    "\"Thai\":\"th\",\n",
    "\"Turkish\":\"tr\",\n",
    "\"Ukrainian\":\"uk\",\n",
    "\"Vietnamese\":\"vi\",\n",
    "\"Welsh\":\"cy\",\n",
    "\"Yiddish\":\"yi\"}\n"
   ]
  },
  {
   "cell_type": "code",
   "execution_count": 3,
   "id": "f815d0c4-d11f-47ee-a76f-12702a0f4071",
   "metadata": {},
   "outputs": [],
   "source": [
    "from PIL import Image"
   ]
  },
  {
   "cell_type": "code",
   "execution_count": 4,
   "id": "4045de93-b81a-4563-a455-f972e6569b7a",
   "metadata": {},
   "outputs": [],
   "source": [
    "import pytesseract"
   ]
  },
  {
   "cell_type": "code",
   "execution_count": 5,
   "id": "93adc771-0325-4bd8-807a-b785f46b4b42",
   "metadata": {},
   "outputs": [],
   "source": [
    "\n",
    "from googletrans import Translator"
   ]
  },
  {
   "cell_type": "code",
   "execution_count": 13,
   "id": "8ed38131-24e9-4fb0-9f8f-3f667ddb92e9",
   "metadata": {},
   "outputs": [],
   "source": [
    "translator = Translator()"
   ]
  },
  {
   "cell_type": "code",
   "execution_count": 20,
   "id": "356f89be-7bb5-4958-bcb0-585c1f643234",
   "metadata": {},
   "outputs": [],
   "source": [
    "from langdetect import detect"
   ]
  },
  {
   "cell_type": "code",
   "execution_count": 21,
   "id": "73ef109f-36dc-4a3f-bb86-dc43a4c8ea49",
   "metadata": {},
   "outputs": [
    {
     "ename": "FileNotFoundError",
     "evalue": "[Errno 2] No such file or directory: 'C:\\\\Users\\\\akshi\\\\Downloads\\\\ML\\\\text to image\\\\img.jpg'",
     "output_type": "error",
     "traceback": [
      "\u001b[1;31m---------------------------------------------------------------------------\u001b[0m",
      "\u001b[1;31mFileNotFoundError\u001b[0m                         Traceback (most recent call last)",
      "Cell \u001b[1;32mIn[21], line 1\u001b[0m\n\u001b[1;32m----> 1\u001b[0m im \u001b[38;5;241m=\u001b[39m \u001b[43mImage\u001b[49m\u001b[38;5;241;43m.\u001b[39;49m\u001b[43mopen\u001b[49m\u001b[43m(\u001b[49m\u001b[38;5;124;43m'\u001b[39;49m\u001b[38;5;124;43mimg.jpg\u001b[39;49m\u001b[38;5;124;43m'\u001b[39;49m\u001b[43m)\u001b[49m\n",
      "File \u001b[1;32m~\\AppData\\Roaming\\Python\\Python312\\site-packages\\PIL\\Image.py:3431\u001b[0m, in \u001b[0;36mopen\u001b[1;34m(fp, mode, formats)\u001b[0m\n\u001b[0;32m   3428\u001b[0m     filename \u001b[38;5;241m=\u001b[39m os\u001b[38;5;241m.\u001b[39mpath\u001b[38;5;241m.\u001b[39mrealpath(os\u001b[38;5;241m.\u001b[39mfspath(fp))\n\u001b[0;32m   3430\u001b[0m \u001b[38;5;28;01mif\u001b[39;00m filename:\n\u001b[1;32m-> 3431\u001b[0m     fp \u001b[38;5;241m=\u001b[39m \u001b[43mbuiltins\u001b[49m\u001b[38;5;241;43m.\u001b[39;49m\u001b[43mopen\u001b[49m\u001b[43m(\u001b[49m\u001b[43mfilename\u001b[49m\u001b[43m,\u001b[49m\u001b[43m \u001b[49m\u001b[38;5;124;43m\"\u001b[39;49m\u001b[38;5;124;43mrb\u001b[39;49m\u001b[38;5;124;43m\"\u001b[39;49m\u001b[43m)\u001b[49m\n\u001b[0;32m   3432\u001b[0m     exclusive_fp \u001b[38;5;241m=\u001b[39m \u001b[38;5;28;01mTrue\u001b[39;00m\n\u001b[0;32m   3433\u001b[0m \u001b[38;5;28;01melse\u001b[39;00m:\n",
      "\u001b[1;31mFileNotFoundError\u001b[0m: [Errno 2] No such file or directory: 'C:\\\\Users\\\\akshi\\\\Downloads\\\\ML\\\\text to image\\\\img.jpg'"
     ]
    }
   ],
   "source": [
    "im = Image.open('img.jpg')"
   ]
  },
  {
   "cell_type": "code",
   "execution_count": 22,
   "id": "6fab0bed-4a83-4d44-90a1-e545be4e0e66",
   "metadata": {},
   "outputs": [
    {
     "name": "stdout",
     "output_type": "stream",
     "text": [
      "Image Text contains: %s The quick brown fox\n",
      "jumped over the 5\n",
      "lazy dogs!\n",
      "\n"
     ]
    }
   ],
   "source": [
    "text = pytesseract.image_to_string(im)\n",
    "print(\"Image Text contains: %s\", text)"
   ]
  },
  {
   "cell_type": "code",
   "execution_count": 78,
   "id": "fc11066b-887e-40cb-b29a-bbd4dd5f2c55",
   "metadata": {},
   "outputs": [
    {
     "name": "stdout",
     "output_type": "stream",
     "text": [
      "the quick brown fox jumped over the 5 lazy dogs!\n"
     ]
    }
   ],
   "source": [
    "text=(text.strip()).lower()\n",
    "text=text.replace(\"\\n\", \" \")\n",
    "text=text.replace(\"  \", \" \")\n",
    "print(text)"
   ]
  },
  {
   "cell_type": "code",
   "execution_count": 83,
   "id": "d025c94a-ddd6-4ff5-9d77-2de01290ff7f",
   "metadata": {},
   "outputs": [
    {
     "name": "stdin",
     "output_type": "stream",
     "text": [
      "In which Language you want the response ?:  Bengali\n"
     ]
    }
   ],
   "source": [
    "lan=input(\"In which Language you want the response ?: \")\n",
    "\n"
   ]
  },
  {
   "cell_type": "code",
   "execution_count": 84,
   "id": "1e81bbf4-7db8-4337-aefa-fbc8d4be513e",
   "metadata": {},
   "outputs": [
    {
     "name": "stdout",
     "output_type": "stream",
     "text": [
      "দ্রুত বাদামী শিয়াল 5 টি অলস কুকুরের উপরে লাফিয়ে উঠল!\n"
     ]
    }
   ],
   "source": [
    "if text is not None and lan in lang.keys():\n",
    "    res=translator.translate(text, dest=lang[lan])\n",
    "    print((res.text))"
   ]
  },
  {
   "cell_type": "code",
   "execution_count": null,
   "id": "553461a6-3051-4fd8-afab-4a5fa00f372b",
   "metadata": {},
   "outputs": [],
   "source": []
  }
 ],
 "metadata": {
  "kernelspec": {
   "display_name": "Python 3 (ipykernel)",
   "language": "python",
   "name": "python3"
  },
  "language_info": {
   "codemirror_mode": {
    "name": "ipython",
    "version": 3
   },
   "file_extension": ".py",
   "mimetype": "text/x-python",
   "name": "python",
   "nbconvert_exporter": "python",
   "pygments_lexer": "ipython3",
   "version": "3.12.1"
  }
 },
 "nbformat": 4,
 "nbformat_minor": 5
}
